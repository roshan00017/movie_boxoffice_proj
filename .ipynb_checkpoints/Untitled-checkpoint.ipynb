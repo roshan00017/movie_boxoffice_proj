{
 "cells": [
  {
   "cell_type": "code",
   "execution_count": 27,
   "id": "b9692e87",
   "metadata": {},
   "outputs": [],
   "source": [
    "import pandas as pd\n",
    "import matplotlib.pyplot as plt\n",
    "import seaborn as sns"
   ]
  },
  {
   "cell_type": "code",
   "execution_count": 28,
   "id": "82790234",
   "metadata": {},
   "outputs": [],
   "source": [
    "df = pd.read_csv('Modified_data.csv')"
   ]
  },
  {
   "cell_type": "code",
   "execution_count": 29,
   "id": "8cf0518e",
   "metadata": {},
   "outputs": [
    {
     "data": {
      "text/html": [
       "<div>\n",
       "<style scoped>\n",
       "    .dataframe tbody tr th:only-of-type {\n",
       "        vertical-align: middle;\n",
       "    }\n",
       "\n",
       "    .dataframe tbody tr th {\n",
       "        vertical-align: top;\n",
       "    }\n",
       "\n",
       "    .dataframe thead th {\n",
       "        text-align: right;\n",
       "    }\n",
       "</style>\n",
       "<table border=\"1\" class=\"dataframe\">\n",
       "  <thead>\n",
       "    <tr style=\"text-align: right;\">\n",
       "      <th></th>\n",
       "      <th>Unnamed: 0</th>\n",
       "      <th>Rank</th>\n",
       "      <th>Year</th>\n",
       "      <th>Movie</th>\n",
       "      <th>WorldwideBox Office</th>\n",
       "      <th>DomesticBox Office</th>\n",
       "      <th>InternationalBox Office</th>\n",
       "    </tr>\n",
       "  </thead>\n",
       "  <tbody>\n",
       "    <tr>\n",
       "      <th>0</th>\n",
       "      <td>0</td>\n",
       "      <td>1</td>\n",
       "      <td>2009</td>\n",
       "      <td>Avatar</td>\n",
       "      <td>2845899541</td>\n",
       "      <td>760507625.0</td>\n",
       "      <td>2085391916</td>\n",
       "    </tr>\n",
       "    <tr>\n",
       "      <th>1</th>\n",
       "      <td>1</td>\n",
       "      <td>2</td>\n",
       "      <td>2019</td>\n",
       "      <td>Avengers: Endgame</td>\n",
       "      <td>2797800564</td>\n",
       "      <td>858373000.0</td>\n",
       "      <td>1939427564</td>\n",
       "    </tr>\n",
       "    <tr>\n",
       "      <th>2</th>\n",
       "      <td>2</td>\n",
       "      <td>3</td>\n",
       "      <td>1997</td>\n",
       "      <td>Titanic</td>\n",
       "      <td>2207986545</td>\n",
       "      <td>659363944.0</td>\n",
       "      <td>1548622601</td>\n",
       "    </tr>\n",
       "    <tr>\n",
       "      <th>3</th>\n",
       "      <td>3</td>\n",
       "      <td>4</td>\n",
       "      <td>2015</td>\n",
       "      <td>Star Wars Ep. VII: The Force Awakens</td>\n",
       "      <td>2064615817</td>\n",
       "      <td>936662225.0</td>\n",
       "      <td>1127953592</td>\n",
       "    </tr>\n",
       "    <tr>\n",
       "      <th>4</th>\n",
       "      <td>4</td>\n",
       "      <td>5</td>\n",
       "      <td>2018</td>\n",
       "      <td>Avengers: Infinity War</td>\n",
       "      <td>2044540523</td>\n",
       "      <td>678815482.0</td>\n",
       "      <td>1365725041</td>\n",
       "    </tr>\n",
       "  </tbody>\n",
       "</table>\n",
       "</div>"
      ],
      "text/plain": [
       "   Unnamed: 0  Rank  Year                                 Movie  \\\n",
       "0           0     1  2009                                Avatar   \n",
       "1           1     2  2019                     Avengers: Endgame   \n",
       "2           2     3  1997                               Titanic   \n",
       "3           3     4  2015  Star Wars Ep. VII: The Force Awakens   \n",
       "4           4     5  2018                Avengers: Infinity War   \n",
       "\n",
       "   WorldwideBox Office  DomesticBox Office  InternationalBox Office  \n",
       "0           2845899541         760507625.0               2085391916  \n",
       "1           2797800564         858373000.0               1939427564  \n",
       "2           2207986545         659363944.0               1548622601  \n",
       "3           2064615817         936662225.0               1127953592  \n",
       "4           2044540523         678815482.0               1365725041  "
      ]
     },
     "execution_count": 29,
     "metadata": {},
     "output_type": "execute_result"
    }
   ],
   "source": [
    "df.head()"
   ]
  },
  {
   "cell_type": "code",
   "execution_count": 30,
   "id": "a19a55bb",
   "metadata": {},
   "outputs": [],
   "source": [
    "df.rename(columns={'Unnamed: 0':'Sn'}, inplace=True)"
   ]
  },
  {
   "cell_type": "code",
   "execution_count": 31,
   "id": "ca64409f",
   "metadata": {},
   "outputs": [
    {
     "data": {
      "text/html": [
       "<div>\n",
       "<style scoped>\n",
       "    .dataframe tbody tr th:only-of-type {\n",
       "        vertical-align: middle;\n",
       "    }\n",
       "\n",
       "    .dataframe tbody tr th {\n",
       "        vertical-align: top;\n",
       "    }\n",
       "\n",
       "    .dataframe thead th {\n",
       "        text-align: right;\n",
       "    }\n",
       "</style>\n",
       "<table border=\"1\" class=\"dataframe\">\n",
       "  <thead>\n",
       "    <tr style=\"text-align: right;\">\n",
       "      <th></th>\n",
       "      <th>Sn</th>\n",
       "      <th>Rank</th>\n",
       "      <th>Year</th>\n",
       "      <th>Movie</th>\n",
       "      <th>WorldwideBox Office</th>\n",
       "      <th>DomesticBox Office</th>\n",
       "      <th>InternationalBox Office</th>\n",
       "    </tr>\n",
       "  </thead>\n",
       "  <tbody>\n",
       "    <tr>\n",
       "      <th>0</th>\n",
       "      <td>0</td>\n",
       "      <td>1</td>\n",
       "      <td>2009</td>\n",
       "      <td>Avatar</td>\n",
       "      <td>2845899541</td>\n",
       "      <td>760507625.0</td>\n",
       "      <td>2085391916</td>\n",
       "    </tr>\n",
       "    <tr>\n",
       "      <th>1</th>\n",
       "      <td>1</td>\n",
       "      <td>2</td>\n",
       "      <td>2019</td>\n",
       "      <td>Avengers: Endgame</td>\n",
       "      <td>2797800564</td>\n",
       "      <td>858373000.0</td>\n",
       "      <td>1939427564</td>\n",
       "    </tr>\n",
       "    <tr>\n",
       "      <th>2</th>\n",
       "      <td>2</td>\n",
       "      <td>3</td>\n",
       "      <td>1997</td>\n",
       "      <td>Titanic</td>\n",
       "      <td>2207986545</td>\n",
       "      <td>659363944.0</td>\n",
       "      <td>1548622601</td>\n",
       "    </tr>\n",
       "    <tr>\n",
       "      <th>3</th>\n",
       "      <td>3</td>\n",
       "      <td>4</td>\n",
       "      <td>2015</td>\n",
       "      <td>Star Wars Ep. VII: The Force Awakens</td>\n",
       "      <td>2064615817</td>\n",
       "      <td>936662225.0</td>\n",
       "      <td>1127953592</td>\n",
       "    </tr>\n",
       "    <tr>\n",
       "      <th>4</th>\n",
       "      <td>4</td>\n",
       "      <td>5</td>\n",
       "      <td>2018</td>\n",
       "      <td>Avengers: Infinity War</td>\n",
       "      <td>2044540523</td>\n",
       "      <td>678815482.0</td>\n",
       "      <td>1365725041</td>\n",
       "    </tr>\n",
       "  </tbody>\n",
       "</table>\n",
       "</div>"
      ],
      "text/plain": [
       "   Sn  Rank  Year                                 Movie  WorldwideBox Office  \\\n",
       "0   0     1  2009                                Avatar           2845899541   \n",
       "1   1     2  2019                     Avengers: Endgame           2797800564   \n",
       "2   2     3  1997                               Titanic           2207986545   \n",
       "3   3     4  2015  Star Wars Ep. VII: The Force Awakens           2064615817   \n",
       "4   4     5  2018                Avengers: Infinity War           2044540523   \n",
       "\n",
       "   DomesticBox Office  InternationalBox Office  \n",
       "0         760507625.0               2085391916  \n",
       "1         858373000.0               1939427564  \n",
       "2         659363944.0               1548622601  \n",
       "3         936662225.0               1127953592  \n",
       "4         678815482.0               1365725041  "
      ]
     },
     "execution_count": 31,
     "metadata": {},
     "output_type": "execute_result"
    }
   ],
   "source": [
    "df.head()"
   ]
  },
  {
   "cell_type": "code",
   "execution_count": 32,
   "id": "bbb43169",
   "metadata": {},
   "outputs": [
    {
     "data": {
      "text/plain": [
       "Sn                         595\n",
       "Rank                       594\n",
       "Year                        51\n",
       "Movie                      589\n",
       "WorldwideBox Office        595\n",
       "DomesticBox Office         588\n",
       "InternationalBox Office    591\n",
       "dtype: int64"
      ]
     },
     "execution_count": 32,
     "metadata": {},
     "output_type": "execute_result"
    }
   ],
   "source": [
    "df.nunique()"
   ]
  },
  {
   "cell_type": "code",
   "execution_count": 33,
   "id": "a1791375",
   "metadata": {},
   "outputs": [
    {
     "data": {
      "text/plain": [
       "array([2009, 2019, 1997, 2015, 2018, 2021, 2012, 2011, 2017, 2013, 2016,\n",
       "       2003, 2014, 2010, 2006, 1993, 1999, 2008, 1994, 2001, 2007, 2004,\n",
       "       2002, 2005, 1996, 1982, 1977, 1998, 2000, 1980, 1990, 1991, 1992,\n",
       "       2020, 1983, 1989, 1975, 1973, 1988, 1939, 1978, 1985, 1981, 1995,\n",
       "       1986, 1984, 1987, 1965, 1972, 1942, 1950], dtype=int64)"
      ]
     },
     "execution_count": 33,
     "metadata": {},
     "output_type": "execute_result"
    }
   ],
   "source": [
    "df['Year'].unique()"
   ]
  },
  {
   "cell_type": "code",
   "execution_count": 39,
   "id": "6fcab274",
   "metadata": {},
   "outputs": [],
   "source": [
    "cordata = df.drop(['Sn'],axis=1)\n"
   ]
  },
  {
   "cell_type": "code",
   "execution_count": 40,
   "id": "5672019c",
   "metadata": {},
   "outputs": [],
   "source": [
    "cordata = df.drop(['Year'],axis=1)"
   ]
  },
  {
   "cell_type": "code",
   "execution_count": 41,
   "id": "abf1a0a4",
   "metadata": {},
   "outputs": [
    {
     "data": {
      "text/html": [
       "<div>\n",
       "<style scoped>\n",
       "    .dataframe tbody tr th:only-of-type {\n",
       "        vertical-align: middle;\n",
       "    }\n",
       "\n",
       "    .dataframe tbody tr th {\n",
       "        vertical-align: top;\n",
       "    }\n",
       "\n",
       "    .dataframe thead th {\n",
       "        text-align: right;\n",
       "    }\n",
       "</style>\n",
       "<table border=\"1\" class=\"dataframe\">\n",
       "  <thead>\n",
       "    <tr style=\"text-align: right;\">\n",
       "      <th></th>\n",
       "      <th>Sn</th>\n",
       "      <th>Rank</th>\n",
       "      <th>Movie</th>\n",
       "      <th>WorldwideBox Office</th>\n",
       "      <th>DomesticBox Office</th>\n",
       "      <th>InternationalBox Office</th>\n",
       "    </tr>\n",
       "  </thead>\n",
       "  <tbody>\n",
       "    <tr>\n",
       "      <th>0</th>\n",
       "      <td>0</td>\n",
       "      <td>1</td>\n",
       "      <td>Avatar</td>\n",
       "      <td>2845899541</td>\n",
       "      <td>760507625.0</td>\n",
       "      <td>2085391916</td>\n",
       "    </tr>\n",
       "    <tr>\n",
       "      <th>1</th>\n",
       "      <td>1</td>\n",
       "      <td>2</td>\n",
       "      <td>Avengers: Endgame</td>\n",
       "      <td>2797800564</td>\n",
       "      <td>858373000.0</td>\n",
       "      <td>1939427564</td>\n",
       "    </tr>\n",
       "    <tr>\n",
       "      <th>2</th>\n",
       "      <td>2</td>\n",
       "      <td>3</td>\n",
       "      <td>Titanic</td>\n",
       "      <td>2207986545</td>\n",
       "      <td>659363944.0</td>\n",
       "      <td>1548622601</td>\n",
       "    </tr>\n",
       "    <tr>\n",
       "      <th>3</th>\n",
       "      <td>3</td>\n",
       "      <td>4</td>\n",
       "      <td>Star Wars Ep. VII: The Force Awakens</td>\n",
       "      <td>2064615817</td>\n",
       "      <td>936662225.0</td>\n",
       "      <td>1127953592</td>\n",
       "    </tr>\n",
       "    <tr>\n",
       "      <th>4</th>\n",
       "      <td>4</td>\n",
       "      <td>5</td>\n",
       "      <td>Avengers: Infinity War</td>\n",
       "      <td>2044540523</td>\n",
       "      <td>678815482.0</td>\n",
       "      <td>1365725041</td>\n",
       "    </tr>\n",
       "    <tr>\n",
       "      <th>...</th>\n",
       "      <td>...</td>\n",
       "      <td>...</td>\n",
       "      <td>...</td>\n",
       "      <td>...</td>\n",
       "      <td>...</td>\n",
       "      <td>...</td>\n",
       "    </tr>\n",
       "    <tr>\n",
       "      <th>590</th>\n",
       "      <td>590</td>\n",
       "      <td>596</td>\n",
       "      <td>Knight and Day</td>\n",
       "      <td>258751370</td>\n",
       "      <td>76423035.0</td>\n",
       "      <td>182328335</td>\n",
       "    </tr>\n",
       "    <tr>\n",
       "      <th>591</th>\n",
       "      <td>591</td>\n",
       "      <td>597</td>\n",
       "      <td>Out of Africa</td>\n",
       "      <td>258210860</td>\n",
       "      <td>79096868.0</td>\n",
       "      <td>179113992</td>\n",
       "    </tr>\n",
       "    <tr>\n",
       "      <th>592</th>\n",
       "      <td>592</td>\n",
       "      <td>598</td>\n",
       "      <td>Super 8</td>\n",
       "      <td>257972745</td>\n",
       "      <td>127004179.0</td>\n",
       "      <td>130968566</td>\n",
       "    </tr>\n",
       "    <tr>\n",
       "      <th>593</th>\n",
       "      <td>593</td>\n",
       "      <td>599</td>\n",
       "      <td>American Hustle</td>\n",
       "      <td>257858943</td>\n",
       "      <td>150098456.0</td>\n",
       "      <td>107760487</td>\n",
       "    </tr>\n",
       "    <tr>\n",
       "      <th>594</th>\n",
       "      <td>594</td>\n",
       "      <td>600</td>\n",
       "      <td>Erin Brockovich</td>\n",
       "      <td>257805243</td>\n",
       "      <td>125548685.0</td>\n",
       "      <td>132256558</td>\n",
       "    </tr>\n",
       "  </tbody>\n",
       "</table>\n",
       "<p>595 rows × 6 columns</p>\n",
       "</div>"
      ],
      "text/plain": [
       "      Sn  Rank                                 Movie  WorldwideBox Office  \\\n",
       "0      0     1                                Avatar           2845899541   \n",
       "1      1     2                     Avengers: Endgame           2797800564   \n",
       "2      2     3                               Titanic           2207986545   \n",
       "3      3     4  Star Wars Ep. VII: The Force Awakens           2064615817   \n",
       "4      4     5                Avengers: Infinity War           2044540523   \n",
       "..   ...   ...                                   ...                  ...   \n",
       "590  590   596                        Knight and Day            258751370   \n",
       "591  591   597                         Out of Africa            258210860   \n",
       "592  592   598                               Super 8            257972745   \n",
       "593  593   599                       American Hustle            257858943   \n",
       "594  594   600                       Erin Brockovich            257805243   \n",
       "\n",
       "     DomesticBox Office  InternationalBox Office  \n",
       "0           760507625.0               2085391916  \n",
       "1           858373000.0               1939427564  \n",
       "2           659363944.0               1548622601  \n",
       "3           936662225.0               1127953592  \n",
       "4           678815482.0               1365725041  \n",
       "..                  ...                      ...  \n",
       "590          76423035.0                182328335  \n",
       "591          79096868.0                179113992  \n",
       "592         127004179.0                130968566  \n",
       "593         150098456.0                107760487  \n",
       "594         125548685.0                132256558  \n",
       "\n",
       "[595 rows x 6 columns]"
      ]
     },
     "execution_count": 41,
     "metadata": {},
     "output_type": "execute_result"
    }
   ],
   "source": [
    "cordata"
   ]
  },
  {
   "cell_type": "markdown",
   "id": "e8fafbf9",
   "metadata": {},
   "source": [
    "## relationship analysis"
   ]
  },
  {
   "cell_type": "code",
   "execution_count": 37,
   "id": "3dda2b86",
   "metadata": {},
   "outputs": [],
   "source": [
    "corelation = cordata.corr()"
   ]
  },
  {
   "cell_type": "code",
   "execution_count": 38,
   "id": "ad439d23",
   "metadata": {},
   "outputs": [
    {
     "data": {
      "text/plain": [
       "<AxesSubplot:>"
      ]
     },
     "execution_count": 38,
     "metadata": {},
     "output_type": "execute_result"
    },
    {
     "data": {
      "image/png": "[encoded data removed]",
      "text/plain": [
       "<Figure size 432x288 with 2 Axes>"
      ]
     },
     "metadata": {
      "needs_background": "light"
     },
     "output_type": "display_data"
    }
   ],
   "source": [
    "sns.heatmap(corelation,xticklabels=corelation.columns,annot=True)"
   ]
  },
  {
   "cell_type": "code",
   "execution_count": null,
   "id": "f7a3fb70",
   "metadata": {},
   "outputs": [],
   "source": []
  }
 ],
 "metadata": {
  "kernelspec": {
   "display_name": "Python 3 (ipykernel)",
   "language": "python",
   "name": "python3"
  },
  "language_info": {
   "codemirror_mode": {
    "name": "ipython",
    "version": 3
   },
   "file_extension": ".py",
   "mimetype": "text/x-python",
   "name": "python",
   "nbconvert_exporter": "python",
   "pygments_lexer": "ipython3",
   "version": "3.9.7"
  }
 },
 "nbformat": 4,
 "nbformat_minor": 5
}
