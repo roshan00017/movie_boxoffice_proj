{
 "cells": [
  {
   "cell_type": "code",
   "execution_count": 1,
   "id": "d6057b7a",
   "metadata": {},
   "outputs": [],
   "source": [
    "import pandas as pd\n",
    "import matplotlib.pyplot as plt\n",
    "import seaborn as sns"
   ]
  },
  {
   "cell_type": "code",
   "execution_count": 2,
   "id": "5ffca5a9",
   "metadata": {},
   "outputs": [],
   "source": [
    "df = pd.read_csv('Modified_data.csv')"
   ]
  },
  {
   "cell_type": "code",
   "execution_count": 3,
   "id": "7640daea",
   "metadata": {},
   "outputs": [
    {
     "data": {
      "text/html": [
       "<div>\n",
       "<style scoped>\n",
       "    .dataframe tbody tr th:only-of-type {\n",
       "        vertical-align: middle;\n",
       "    }\n",
       "\n",
       "    .dataframe tbody tr th {\n",
       "        vertical-align: top;\n",
       "    }\n",
       "\n",
       "    .dataframe thead th {\n",
       "        text-align: right;\n",
       "    }\n",
       "</style>\n",
       "<table border=\"1\" class=\"dataframe\">\n",
       "  <thead>\n",
       "    <tr style=\"text-align: right;\">\n",
       "      <th></th>\n",
       "      <th>Unnamed: 0</th>\n",
       "      <th>Rank</th>\n",
       "      <th>Year</th>\n",
       "      <th>Movie</th>\n",
       "      <th>WorldwideBox Office</th>\n",
       "      <th>DomesticBox Office</th>\n",
       "      <th>InternationalBox Office</th>\n",
       "    </tr>\n",
       "  </thead>\n",
       "  <tbody>\n",
       "    <tr>\n",
       "      <th>0</th>\n",
       "      <td>0</td>\n",
       "      <td>1</td>\n",
       "      <td>2009</td>\n",
       "      <td>Avatar</td>\n",
       "      <td>2.845900e+09</td>\n",
       "      <td>760507625.0</td>\n",
       "      <td>760507625.0</td>\n",
       "    </tr>\n",
       "    <tr>\n",
       "      <th>1</th>\n",
       "      <td>1</td>\n",
       "      <td>2</td>\n",
       "      <td>2019</td>\n",
       "      <td>Avengers: Endgame</td>\n",
       "      <td>2.797801e+09</td>\n",
       "      <td>858373000.0</td>\n",
       "      <td>858373000.0</td>\n",
       "    </tr>\n",
       "    <tr>\n",
       "      <th>2</th>\n",
       "      <td>2</td>\n",
       "      <td>3</td>\n",
       "      <td>1997</td>\n",
       "      <td>Titanic</td>\n",
       "      <td>2.207987e+09</td>\n",
       "      <td>659363944.0</td>\n",
       "      <td>659363944.0</td>\n",
       "    </tr>\n",
       "    <tr>\n",
       "      <th>3</th>\n",
       "      <td>3</td>\n",
       "      <td>4</td>\n",
       "      <td>2015</td>\n",
       "      <td>Star Wars Ep. VII: The Force Awakens</td>\n",
       "      <td>2.064616e+09</td>\n",
       "      <td>936662225.0</td>\n",
       "      <td>936662225.0</td>\n",
       "    </tr>\n",
       "    <tr>\n",
       "      <th>4</th>\n",
       "      <td>4</td>\n",
       "      <td>5</td>\n",
       "      <td>2018</td>\n",
       "      <td>Avengers: Infinity War</td>\n",
       "      <td>2.044541e+09</td>\n",
       "      <td>678815482.0</td>\n",
       "      <td>678815482.0</td>\n",
       "    </tr>\n",
       "  </tbody>\n",
       "</table>\n",
       "</div>"
      ],
      "text/plain": [
       "   Unnamed: 0  Rank  Year                                 Movie  \\\n",
       "0           0     1  2009                                Avatar   \n",
       "1           1     2  2019                     Avengers: Endgame   \n",
       "2           2     3  1997                               Titanic   \n",
       "3           3     4  2015  Star Wars Ep. VII: The Force Awakens   \n",
       "4           4     5  2018                Avengers: Infinity War   \n",
       "\n",
       "   WorldwideBox Office  DomesticBox Office  InternationalBox Office  \n",
       "0         2.845900e+09         760507625.0              760507625.0  \n",
       "1         2.797801e+09         858373000.0              858373000.0  \n",
       "2         2.207987e+09         659363944.0              659363944.0  \n",
       "3         2.064616e+09         936662225.0              936662225.0  \n",
       "4         2.044541e+09         678815482.0              678815482.0  "
      ]
     },
     "execution_count": 3,
     "metadata": {},
     "output_type": "execute_result"
    }
   ],
   "source": [
    "df.head()"
   ]
  },
  {
   "cell_type": "code",
   "execution_count": null,
   "id": "0c13f7da",
   "metadata": {},
   "outputs": [],
   "source": []
  }
 ],
 "metadata": {
  "kernelspec": {
   "display_name": "Python 3 (ipykernel)",
   "language": "python",
   "name": "python3"
  },
  "language_info": {
   "codemirror_mode": {
    "name": "ipython",
    "version": 3
   },
   "file_extension": ".py",
   "mimetype": "text/x-python",
   "name": "python",
   "nbconvert_exporter": "python",
   "pygments_lexer": "ipython3",
   "version": "3.9.7"
  }
 },
 "nbformat": 4,
 "nbformat_minor": 5
}
